{
  "nbformat": 4,
  "nbformat_minor": 0,
  "metadata": {
    "colab": {
      "provenance": [],
      "collapsed_sections": [
        "TMaHm7NhiNFM",
        "CUrtW7mBqT-q",
        "O6kKM65VwGGo"
      ],
      "toc_visible": true,
      "authorship_tag": "ABX9TyPTBJREiOSmhoDGyMHQ0H8O",
      "include_colab_link": true
    },
    "kernelspec": {
      "name": "python3",
      "display_name": "Python 3"
    },
    "language_info": {
      "name": "python"
    }
  },
  "cells": [
    {
      "cell_type": "markdown",
      "metadata": {
        "id": "view-in-github",
        "colab_type": "text"
      },
      "source": [
        "<a href=\"https://colab.research.google.com/github/justynamatejkowska/wizualizacja_py/blob/main/Wizualizacja_py_Matejkowska_Lewandowska.ipynb\" target=\"_parent\"><img src=\"https://colab.research.google.com/assets/colab-badge.svg\" alt=\"Open In Colab\"/></a>"
      ]
    },
    {
      "cell_type": "markdown",
      "source": [
        "#Projekt zaliczeniowy\n",
        "## **Wizualizacja danych sprzedażowych sieci sklepów *Drogeria* w języku Python tekst**\n",
        "####Na podstawie analizy najbardziej dochodowych sklepów *Drogeria*\n",
        "##### Autorzy: Katarzyna Lewandowska, Justyna Matejkowska"
      ],
      "metadata": {
        "id": "AJtHkEaH4w4x"
      }
    },
    {
      "cell_type": "markdown",
      "source": [
        "# Przygotowanie środowiska"
      ],
      "metadata": {
        "id": "U7OR17l05RFb"
      }
    },
    {
      "cell_type": "markdown",
      "source": [
        "Import pakietów"
      ],
      "metadata": {
        "id": "2akcK_pQhgs7"
      }
    },
    {
      "cell_type": "code",
      "source": [
        "import csv\n",
        "import pandas as pd\n",
        "import requests\n",
        "import matplotlib.pyplot as plt\n",
        "from matplotlib import colors\n",
        "import seaborn as sns"
      ],
      "metadata": {
        "id": "7c7IHRAhpxc2"
      },
      "execution_count": 1,
      "outputs": []
    },
    {
      "cell_type": "markdown",
      "source": [
        "Wczytanie danych"
      ],
      "metadata": {
        "id": "9glVPCOsp6Sw"
      }
    },
    {
      "cell_type": "code",
      "execution_count": 2,
      "metadata": {
        "id": "JPex9wuxnYtm",
        "colab": {
          "base_uri": "https://localhost:8080/"
        },
        "outputId": "724a66c5-2a5a-4785-d931-c88bd9b2f246"
      },
      "outputs": [
        {
          "output_type": "execute_result",
          "data": {
            "text/plain": [
              "991849"
            ]
          },
          "metadata": {},
          "execution_count": 2
        }
      ],
      "source": [
        "# przykladowy sposb odczytu z pliku lezacego pod sciezka /2021-selected-rates.csv\n",
        "url = 'https://raw.githubusercontent.com/justynamatejkowska/wizualizacja_py/main/d_shops.csv'\n",
        "response = requests.get(url)\n",
        "open(\"/d_shops.csv\", \"wb\").write(response.content)"
      ]
    },
    {
      "cell_type": "markdown",
      "source": [
        "Wczytanie tabeli z danych"
      ],
      "metadata": {
        "id": "_tkRJHQXhpR7"
      }
    },
    {
      "cell_type": "code",
      "source": [
        "shops = pd.read_csv('/d_shops.csv')\n",
        "shops.head()"
      ],
      "metadata": {
        "id": "Vr2YSlhE3JHe",
        "colab": {
          "base_uri": "https://localhost:8080/",
          "height": 206
        },
        "outputId": "b36ff01e-d6ef-4517-838c-c7f1520ab86b"
      },
      "execution_count": 3,
      "outputs": [
        {
          "output_type": "execute_result",
          "data": {
            "text/plain": [
              "   sklep_id  dzien_tyg        data  sprzedaz  liczba_klientow czy_otwarty  \\\n",
              "0         1          3  31.12.2021      2605              327         Tak   \n",
              "1         2          3  31.12.2021      2269              252         Tak   \n",
              "2         3          3  31.12.2021      3804              408         Tak   \n",
              "3         4          3  31.12.2021     10152             1311         Tak   \n",
              "4         5          3  31.12.2021      1830              217         Tak   \n",
              "\n",
              "  czy_promocja czy_swieto czy_swieto_szkolne sklep_typ  sklep_asort  \\\n",
              "0          Nie        Nie                Tak         c   Podstawowy   \n",
              "1          Nie        Nie                Tak         a   Podstawowy   \n",
              "2          Nie        Nie                Tak         a   Podstawowy   \n",
              "3          Nie        Nie                Tak         c  Rozszerzony   \n",
              "4          Nie        Nie                Tak         a   Podstawowy   \n",
              "\n",
              "   sklep_konkurencja  \n",
              "0               1270  \n",
              "1                570  \n",
              "2              14130  \n",
              "3                620  \n",
              "4              29910  "
            ],
            "text/html": [
              "\n",
              "  <div id=\"df-ba6853f5-b804-4174-ae24-7f074eaa5161\">\n",
              "    <div class=\"colab-df-container\">\n",
              "      <div>\n",
              "<style scoped>\n",
              "    .dataframe tbody tr th:only-of-type {\n",
              "        vertical-align: middle;\n",
              "    }\n",
              "\n",
              "    .dataframe tbody tr th {\n",
              "        vertical-align: top;\n",
              "    }\n",
              "\n",
              "    .dataframe thead th {\n",
              "        text-align: right;\n",
              "    }\n",
              "</style>\n",
              "<table border=\"1\" class=\"dataframe\">\n",
              "  <thead>\n",
              "    <tr style=\"text-align: right;\">\n",
              "      <th></th>\n",
              "      <th>sklep_id</th>\n",
              "      <th>dzien_tyg</th>\n",
              "      <th>data</th>\n",
              "      <th>sprzedaz</th>\n",
              "      <th>liczba_klientow</th>\n",
              "      <th>czy_otwarty</th>\n",
              "      <th>czy_promocja</th>\n",
              "      <th>czy_swieto</th>\n",
              "      <th>czy_swieto_szkolne</th>\n",
              "      <th>sklep_typ</th>\n",
              "      <th>sklep_asort</th>\n",
              "      <th>sklep_konkurencja</th>\n",
              "    </tr>\n",
              "  </thead>\n",
              "  <tbody>\n",
              "    <tr>\n",
              "      <th>0</th>\n",
              "      <td>1</td>\n",
              "      <td>3</td>\n",
              "      <td>31.12.2021</td>\n",
              "      <td>2605</td>\n",
              "      <td>327</td>\n",
              "      <td>Tak</td>\n",
              "      <td>Nie</td>\n",
              "      <td>Nie</td>\n",
              "      <td>Tak</td>\n",
              "      <td>c</td>\n",
              "      <td>Podstawowy</td>\n",
              "      <td>1270</td>\n",
              "    </tr>\n",
              "    <tr>\n",
              "      <th>1</th>\n",
              "      <td>2</td>\n",
              "      <td>3</td>\n",
              "      <td>31.12.2021</td>\n",
              "      <td>2269</td>\n",
              "      <td>252</td>\n",
              "      <td>Tak</td>\n",
              "      <td>Nie</td>\n",
              "      <td>Nie</td>\n",
              "      <td>Tak</td>\n",
              "      <td>a</td>\n",
              "      <td>Podstawowy</td>\n",
              "      <td>570</td>\n",
              "    </tr>\n",
              "    <tr>\n",
              "      <th>2</th>\n",
              "      <td>3</td>\n",
              "      <td>3</td>\n",
              "      <td>31.12.2021</td>\n",
              "      <td>3804</td>\n",
              "      <td>408</td>\n",
              "      <td>Tak</td>\n",
              "      <td>Nie</td>\n",
              "      <td>Nie</td>\n",
              "      <td>Tak</td>\n",
              "      <td>a</td>\n",
              "      <td>Podstawowy</td>\n",
              "      <td>14130</td>\n",
              "    </tr>\n",
              "    <tr>\n",
              "      <th>3</th>\n",
              "      <td>4</td>\n",
              "      <td>3</td>\n",
              "      <td>31.12.2021</td>\n",
              "      <td>10152</td>\n",
              "      <td>1311</td>\n",
              "      <td>Tak</td>\n",
              "      <td>Nie</td>\n",
              "      <td>Nie</td>\n",
              "      <td>Tak</td>\n",
              "      <td>c</td>\n",
              "      <td>Rozszerzony</td>\n",
              "      <td>620</td>\n",
              "    </tr>\n",
              "    <tr>\n",
              "      <th>4</th>\n",
              "      <td>5</td>\n",
              "      <td>3</td>\n",
              "      <td>31.12.2021</td>\n",
              "      <td>1830</td>\n",
              "      <td>217</td>\n",
              "      <td>Tak</td>\n",
              "      <td>Nie</td>\n",
              "      <td>Nie</td>\n",
              "      <td>Tak</td>\n",
              "      <td>a</td>\n",
              "      <td>Podstawowy</td>\n",
              "      <td>29910</td>\n",
              "    </tr>\n",
              "  </tbody>\n",
              "</table>\n",
              "</div>\n",
              "      <button class=\"colab-df-convert\" onclick=\"convertToInteractive('df-ba6853f5-b804-4174-ae24-7f074eaa5161')\"\n",
              "              title=\"Convert this dataframe to an interactive table.\"\n",
              "              style=\"display:none;\">\n",
              "        \n",
              "  <svg xmlns=\"http://www.w3.org/2000/svg\" height=\"24px\"viewBox=\"0 0 24 24\"\n",
              "       width=\"24px\">\n",
              "    <path d=\"M0 0h24v24H0V0z\" fill=\"none\"/>\n",
              "    <path d=\"M18.56 5.44l.94 2.06.94-2.06 2.06-.94-2.06-.94-.94-2.06-.94 2.06-2.06.94zm-11 1L8.5 8.5l.94-2.06 2.06-.94-2.06-.94L8.5 2.5l-.94 2.06-2.06.94zm10 10l.94 2.06.94-2.06 2.06-.94-2.06-.94-.94-2.06-.94 2.06-2.06.94z\"/><path d=\"M17.41 7.96l-1.37-1.37c-.4-.4-.92-.59-1.43-.59-.52 0-1.04.2-1.43.59L10.3 9.45l-7.72 7.72c-.78.78-.78 2.05 0 2.83L4 21.41c.39.39.9.59 1.41.59.51 0 1.02-.2 1.41-.59l7.78-7.78 2.81-2.81c.8-.78.8-2.07 0-2.86zM5.41 20L4 18.59l7.72-7.72 1.47 1.35L5.41 20z\"/>\n",
              "  </svg>\n",
              "      </button>\n",
              "      \n",
              "  <style>\n",
              "    .colab-df-container {\n",
              "      display:flex;\n",
              "      flex-wrap:wrap;\n",
              "      gap: 12px;\n",
              "    }\n",
              "\n",
              "    .colab-df-convert {\n",
              "      background-color: #E8F0FE;\n",
              "      border: none;\n",
              "      border-radius: 50%;\n",
              "      cursor: pointer;\n",
              "      display: none;\n",
              "      fill: #1967D2;\n",
              "      height: 32px;\n",
              "      padding: 0 0 0 0;\n",
              "      width: 32px;\n",
              "    }\n",
              "\n",
              "    .colab-df-convert:hover {\n",
              "      background-color: #E2EBFA;\n",
              "      box-shadow: 0px 1px 2px rgba(60, 64, 67, 0.3), 0px 1px 3px 1px rgba(60, 64, 67, 0.15);\n",
              "      fill: #174EA6;\n",
              "    }\n",
              "\n",
              "    [theme=dark] .colab-df-convert {\n",
              "      background-color: #3B4455;\n",
              "      fill: #D2E3FC;\n",
              "    }\n",
              "\n",
              "    [theme=dark] .colab-df-convert:hover {\n",
              "      background-color: #434B5C;\n",
              "      box-shadow: 0px 1px 3px 1px rgba(0, 0, 0, 0.15);\n",
              "      filter: drop-shadow(0px 1px 2px rgba(0, 0, 0, 0.3));\n",
              "      fill: #FFFFFF;\n",
              "    }\n",
              "  </style>\n",
              "\n",
              "      <script>\n",
              "        const buttonEl =\n",
              "          document.querySelector('#df-ba6853f5-b804-4174-ae24-7f074eaa5161 button.colab-df-convert');\n",
              "        buttonEl.style.display =\n",
              "          google.colab.kernel.accessAllowed ? 'block' : 'none';\n",
              "\n",
              "        async function convertToInteractive(key) {\n",
              "          const element = document.querySelector('#df-ba6853f5-b804-4174-ae24-7f074eaa5161');\n",
              "          const dataTable =\n",
              "            await google.colab.kernel.invokeFunction('convertToInteractive',\n",
              "                                                     [key], {});\n",
              "          if (!dataTable) return;\n",
              "\n",
              "          const docLinkHtml = 'Like what you see? Visit the ' +\n",
              "            '<a target=\"_blank\" href=https://colab.research.google.com/notebooks/data_table.ipynb>data table notebook</a>'\n",
              "            + ' to learn more about interactive tables.';\n",
              "          element.innerHTML = '';\n",
              "          dataTable['output_type'] = 'display_data';\n",
              "          await google.colab.output.renderOutput(dataTable, element);\n",
              "          const docLink = document.createElement('div');\n",
              "          docLink.innerHTML = docLinkHtml;\n",
              "          element.appendChild(docLink);\n",
              "        }\n",
              "      </script>\n",
              "    </div>\n",
              "  </div>\n",
              "  "
            ]
          },
          "metadata": {},
          "execution_count": 3
        }
      ]
    },
    {
      "cell_type": "markdown",
      "source": [
        "Deklaracja kolorów"
      ],
      "metadata": {
        "id": "m_4B-ks45mW0"
      }
    },
    {
      "cell_type": "code",
      "source": [
        "COLOR_1 = '#a1c9f4' \n",
        "COLOR_2 = '#8de5a1' \n",
        "COLOR_3 = '#ff9f9b'\n",
        "COLOR_4 = '#d0bbff'\n",
        "COLOR_5 = '#debb9b'\n",
        "COLOR_6 = '#fab0e4'\n",
        "COLOR_7 = '#cfcfcf'\n",
        "COLOR_8 = '#fffea3'\n",
        "COLOR_9 = '#b9f2f0'\n"
      ],
      "metadata": {
        "id": "mm3OR_ko6Ppb"
      },
      "execution_count": 4,
      "outputs": []
    },
    {
      "cell_type": "markdown",
      "source": [
        "# *Drogeria* vs konkurencja\n"
      ],
      "metadata": {
        "id": "TMaHm7NhiNFM"
      }
    },
    {
      "cell_type": "markdown",
      "source": [
        "Przygotowanie danych do wykresu 1. - tabela przestawna, suma sprzedaży 5 najbardziej dochodowych *Drogerii* oraz konkurencji"
      ],
      "metadata": {
        "id": "myQp8esIhr8y"
      }
    },
    {
      "cell_type": "code",
      "source": [
        "shops\n",
        "values = ['sprzedaz','liczba_klientow','sklep_konkurencja']\n",
        "top_5 = shops.pivot_table(index = 'sklep_id', values = values, aggfunc='sum').nlargest(5,'sprzedaz')\n",
        "\n",
        "top_5.rename(columns={'sprzedaz': 'suma_sprzedazy', 'liczba_klientow':'klienci', 'sklep_konkurencja': 'konkurencja'}, inplace=False)"
      ],
      "metadata": {
        "colab": {
          "base_uri": "https://localhost:8080/",
          "height": 237
        },
        "id": "rBSprQCjp9Vg",
        "outputId": "7bc8dba7-9ef6-4cf9-8b1d-e691aa2468b4"
      },
      "execution_count": 5,
      "outputs": [
        {
          "output_type": "execute_result",
          "data": {
            "text/plain": [
              "          klienci  konkurencja  suma_sprzedazy\n",
              "sklep_id                                      \n",
              "42         337339       105850         3132357\n",
              "25         419902       156950         3004443\n",
              "4          405758       226300         2971989\n",
              "35         222661      2795900         2946316\n",
              "27         325933        21900         2891329"
            ],
            "text/html": [
              "\n",
              "  <div id=\"df-7764b2ba-f85e-4605-8a9c-f6224a16165d\">\n",
              "    <div class=\"colab-df-container\">\n",
              "      <div>\n",
              "<style scoped>\n",
              "    .dataframe tbody tr th:only-of-type {\n",
              "        vertical-align: middle;\n",
              "    }\n",
              "\n",
              "    .dataframe tbody tr th {\n",
              "        vertical-align: top;\n",
              "    }\n",
              "\n",
              "    .dataframe thead th {\n",
              "        text-align: right;\n",
              "    }\n",
              "</style>\n",
              "<table border=\"1\" class=\"dataframe\">\n",
              "  <thead>\n",
              "    <tr style=\"text-align: right;\">\n",
              "      <th></th>\n",
              "      <th>klienci</th>\n",
              "      <th>konkurencja</th>\n",
              "      <th>suma_sprzedazy</th>\n",
              "    </tr>\n",
              "    <tr>\n",
              "      <th>sklep_id</th>\n",
              "      <th></th>\n",
              "      <th></th>\n",
              "      <th></th>\n",
              "    </tr>\n",
              "  </thead>\n",
              "  <tbody>\n",
              "    <tr>\n",
              "      <th>42</th>\n",
              "      <td>337339</td>\n",
              "      <td>105850</td>\n",
              "      <td>3132357</td>\n",
              "    </tr>\n",
              "    <tr>\n",
              "      <th>25</th>\n",
              "      <td>419902</td>\n",
              "      <td>156950</td>\n",
              "      <td>3004443</td>\n",
              "    </tr>\n",
              "    <tr>\n",
              "      <th>4</th>\n",
              "      <td>405758</td>\n",
              "      <td>226300</td>\n",
              "      <td>2971989</td>\n",
              "    </tr>\n",
              "    <tr>\n",
              "      <th>35</th>\n",
              "      <td>222661</td>\n",
              "      <td>2795900</td>\n",
              "      <td>2946316</td>\n",
              "    </tr>\n",
              "    <tr>\n",
              "      <th>27</th>\n",
              "      <td>325933</td>\n",
              "      <td>21900</td>\n",
              "      <td>2891329</td>\n",
              "    </tr>\n",
              "  </tbody>\n",
              "</table>\n",
              "</div>\n",
              "      <button class=\"colab-df-convert\" onclick=\"convertToInteractive('df-7764b2ba-f85e-4605-8a9c-f6224a16165d')\"\n",
              "              title=\"Convert this dataframe to an interactive table.\"\n",
              "              style=\"display:none;\">\n",
              "        \n",
              "  <svg xmlns=\"http://www.w3.org/2000/svg\" height=\"24px\"viewBox=\"0 0 24 24\"\n",
              "       width=\"24px\">\n",
              "    <path d=\"M0 0h24v24H0V0z\" fill=\"none\"/>\n",
              "    <path d=\"M18.56 5.44l.94 2.06.94-2.06 2.06-.94-2.06-.94-.94-2.06-.94 2.06-2.06.94zm-11 1L8.5 8.5l.94-2.06 2.06-.94-2.06-.94L8.5 2.5l-.94 2.06-2.06.94zm10 10l.94 2.06.94-2.06 2.06-.94-2.06-.94-.94-2.06-.94 2.06-2.06.94z\"/><path d=\"M17.41 7.96l-1.37-1.37c-.4-.4-.92-.59-1.43-.59-.52 0-1.04.2-1.43.59L10.3 9.45l-7.72 7.72c-.78.78-.78 2.05 0 2.83L4 21.41c.39.39.9.59 1.41.59.51 0 1.02-.2 1.41-.59l7.78-7.78 2.81-2.81c.8-.78.8-2.07 0-2.86zM5.41 20L4 18.59l7.72-7.72 1.47 1.35L5.41 20z\"/>\n",
              "  </svg>\n",
              "      </button>\n",
              "      \n",
              "  <style>\n",
              "    .colab-df-container {\n",
              "      display:flex;\n",
              "      flex-wrap:wrap;\n",
              "      gap: 12px;\n",
              "    }\n",
              "\n",
              "    .colab-df-convert {\n",
              "      background-color: #E8F0FE;\n",
              "      border: none;\n",
              "      border-radius: 50%;\n",
              "      cursor: pointer;\n",
              "      display: none;\n",
              "      fill: #1967D2;\n",
              "      height: 32px;\n",
              "      padding: 0 0 0 0;\n",
              "      width: 32px;\n",
              "    }\n",
              "\n",
              "    .colab-df-convert:hover {\n",
              "      background-color: #E2EBFA;\n",
              "      box-shadow: 0px 1px 2px rgba(60, 64, 67, 0.3), 0px 1px 3px 1px rgba(60, 64, 67, 0.15);\n",
              "      fill: #174EA6;\n",
              "    }\n",
              "\n",
              "    [theme=dark] .colab-df-convert {\n",
              "      background-color: #3B4455;\n",
              "      fill: #D2E3FC;\n",
              "    }\n",
              "\n",
              "    [theme=dark] .colab-df-convert:hover {\n",
              "      background-color: #434B5C;\n",
              "      box-shadow: 0px 1px 3px 1px rgba(0, 0, 0, 0.15);\n",
              "      filter: drop-shadow(0px 1px 2px rgba(0, 0, 0, 0.3));\n",
              "      fill: #FFFFFF;\n",
              "    }\n",
              "  </style>\n",
              "\n",
              "      <script>\n",
              "        const buttonEl =\n",
              "          document.querySelector('#df-7764b2ba-f85e-4605-8a9c-f6224a16165d button.colab-df-convert');\n",
              "        buttonEl.style.display =\n",
              "          google.colab.kernel.accessAllowed ? 'block' : 'none';\n",
              "\n",
              "        async function convertToInteractive(key) {\n",
              "          const element = document.querySelector('#df-7764b2ba-f85e-4605-8a9c-f6224a16165d');\n",
              "          const dataTable =\n",
              "            await google.colab.kernel.invokeFunction('convertToInteractive',\n",
              "                                                     [key], {});\n",
              "          if (!dataTable) return;\n",
              "\n",
              "          const docLinkHtml = 'Like what you see? Visit the ' +\n",
              "            '<a target=\"_blank\" href=https://colab.research.google.com/notebooks/data_table.ipynb>data table notebook</a>'\n",
              "            + ' to learn more about interactive tables.';\n",
              "          element.innerHTML = '';\n",
              "          dataTable['output_type'] = 'display_data';\n",
              "          await google.colab.output.renderOutput(dataTable, element);\n",
              "          const docLink = document.createElement('div');\n",
              "          docLink.innerHTML = docLinkHtml;\n",
              "          element.appendChild(docLink);\n",
              "        }\n",
              "      </script>\n",
              "    </div>\n",
              "  </div>\n",
              "  "
            ]
          },
          "metadata": {},
          "execution_count": 5
        }
      ]
    },
    {
      "cell_type": "markdown",
      "source": [
        "Wykres 1. - porównanie 5 sklepów *Drogeria*, które charakteryzują się się największą dochodowością wśród wszystkich sklepów *Drogeria*"
      ],
      "metadata": {
        "id": "dkgQwsSiqDSS"
      }
    },
    {
      "cell_type": "code",
      "source": [
        "y=['sprzedaz','sklep_konkurencja']\n",
        "color=[COLOR_1, COLOR_2 ]\n",
        "\n",
        "plt.rcParams[\"figure.figsize\"] = (5,8) #zmiana rozmiaru\n",
        "fig1 = top_5.plot.bar(y=y, color=color) #stworzenie wykresu\n",
        "\n",
        "fig1.set_ylabel('Sprzedaż w mln', color='black', fontsize=10)\n",
        "fig1.set_xlabel('Numer sklepu',color='black', fontsize=10)\n",
        "fig1.set_title('Porównanie Drogeria vs Konkurencja',color='black', fontsize=10)\n",
        "fig1.legend(['Drogeria','Konkurencja'], loc = 0)\n",
        "plt.show()"
      ],
      "metadata": {
        "colab": {
          "base_uri": "https://localhost:8080/",
          "height": 514
        },
        "id": "dww6sLcmLIj0",
        "outputId": "beff459d-75e4-4b5e-da6e-66f61f27aee6"
      },
      "execution_count": 6,
      "outputs": [
        {
          "output_type": "display_data",
          "data": {
            "text/plain": [
              "<Figure size 360x576 with 1 Axes>"
            ],
            "image/png": "[encoded data removed]"
          },
          "metadata": {
            "needs_background": "light"
          }
        }
      ]
    },
    {
      "cell_type": "code",
      "source": [],
      "metadata": {
        "id": "I-HTgDRcPCHy"
      },
      "execution_count": null,
      "outputs": []
    },
    {
      "cell_type": "markdown",
      "source": [
        "#Rozkład sprzedaży i klientów w sklepach *Drogeria*"
      ],
      "metadata": {
        "id": "CUrtW7mBqT-q"
      }
    },
    {
      "cell_type": "markdown",
      "source": [
        "Przygotowanie danych do wykresu 2. - odfiltrowanie 5 najbardziej dochodowych sklepów"
      ],
      "metadata": {
        "id": "bBMGfmFLqiXN"
      }
    },
    {
      "cell_type": "code",
      "source": [
        "shops_ids = [42, 35, 25, 4, 27]\n",
        "shops_open = []\n",
        "\n",
        "for id in shops_ids:\n",
        "    shop = shops[(shops.sklep_id == id) & (shops.czy_otwarty == 'Tak')]\n",
        "    shops_open.append(shop)\n",
        "\n",
        "shops4 = pd.concat(shops_open)\n",
        "\n",
        "shops4"
      ],
      "metadata": {
        "id": "SswLEU3_qStd",
        "colab": {
          "base_uri": "https://localhost:8080/",
          "height": 423
        },
        "outputId": "ad8ba365-c969-443d-b7f4-79e0edf339ff"
      },
      "execution_count": 7,
      "outputs": [
        {
          "output_type": "execute_result",
          "data": {
            "text/plain": [
              "       sklep_id  dzien_tyg        data  sprzedaz  liczba_klientow czy_otwarty  \\\n",
              "35           42          3  31.12.2021      7395              780         Tak   \n",
              "78           42          2  30.12.2021     13334             1324         Tak   \n",
              "121          42          1  29.12.2021     11385             1140         Tak   \n",
              "207          42          6  27.12.2021      7072              792         Tak   \n",
              "336          42          3  24.12.2021      7297              812         Tak   \n",
              "...         ...        ...         ...       ...              ...         ...   \n",
              "16638        27          2  07.01.2021     15092             1457         Tak   \n",
              "16688        27          1  06.01.2021     15650             1449         Tak   \n",
              "16788        27          6  04.01.2021      7413              913         Tak   \n",
              "16838        27          5  03.01.2021      8297             1093         Tak   \n",
              "16888        27          4  02.01.2021      7954             1062         Tak   \n",
              "\n",
              "      czy_promocja czy_swieto czy_swieto_szkolne sklep_typ  sklep_asort  \\\n",
              "35             Nie        Nie                Tak         a  Rozszerzony   \n",
              "78             Nie        Nie                Tak         a  Rozszerzony   \n",
              "121            Nie        Nie                Tak         a  Rozszerzony   \n",
              "207            Nie        Nie                Nie         a  Rozszerzony   \n",
              "336            Nie        Nie                Tak         a  Rozszerzony   \n",
              "...            ...        ...                ...       ...          ...   \n",
              "16638          Tak        Nie                Tak         a   Podstawowy   \n",
              "16688          Tak        Nie                Tak         a   Podstawowy   \n",
              "16788          Nie        Nie                Nie         a   Podstawowy   \n",
              "16838          Nie        Nie                Tak         a   Podstawowy   \n",
              "16888          Nie        Nie                Tak         a   Podstawowy   \n",
              "\n",
              "       sklep_konkurencja  \n",
              "35                   290  \n",
              "78                   290  \n",
              "121                  290  \n",
              "207                  290  \n",
              "336                  290  \n",
              "...                  ...  \n",
              "16638                 60  \n",
              "16688                 60  \n",
              "16788                 60  \n",
              "16838                 60  \n",
              "16888                 60  \n",
              "\n",
              "[1487 rows x 12 columns]"
            ],
            "text/html": [
              "\n",
              "  <div id=\"df-2a711e59-caaa-4832-bb35-3035b7110100\">\n",
              "    <div class=\"colab-df-container\">\n",
              "      <div>\n",
              "<style scoped>\n",
              "    .dataframe tbody tr th:only-of-type {\n",
              "        vertical-align: middle;\n",
              "    }\n",
              "\n",
              "    .dataframe tbody tr th {\n",
              "        vertical-align: top;\n",
              "    }\n",
              "\n",
              "    .dataframe thead th {\n",
              "        text-align: right;\n",
              "    }\n",
              "</style>\n",
              "<table border=\"1\" class=\"dataframe\">\n",
              "  <thead>\n",
              "    <tr style=\"text-align: right;\">\n",
              "      <th></th>\n",
              "      <th>sklep_id</th>\n",
              "      <th>dzien_tyg</th>\n",
              "      <th>data</th>\n",
              "      <th>sprzedaz</th>\n",
              "      <th>liczba_klientow</th>\n",
              "      <th>czy_otwarty</th>\n",
              "      <th>czy_promocja</th>\n",
              "      <th>czy_swieto</th>\n",
              "      <th>czy_swieto_szkolne</th>\n",
              "      <th>sklep_typ</th>\n",
              "      <th>sklep_asort</th>\n",
              "      <th>sklep_konkurencja</th>\n",
              "    </tr>\n",
              "  </thead>\n",
              "  <tbody>\n",
              "    <tr>\n",
              "      <th>35</th>\n",
              "      <td>42</td>\n",
              "      <td>3</td>\n",
              "      <td>31.12.2021</td>\n",
              "      <td>7395</td>\n",
              "      <td>780</td>\n",
              "      <td>Tak</td>\n",
              "      <td>Nie</td>\n",
              "      <td>Nie</td>\n",
              "      <td>Tak</td>\n",
              "      <td>a</td>\n",
              "      <td>Rozszerzony</td>\n",
              "      <td>290</td>\n",
              "    </tr>\n",
              "    <tr>\n",
              "      <th>78</th>\n",
              "      <td>42</td>\n",
              "      <td>2</td>\n",
              "      <td>30.12.2021</td>\n",
              "      <td>13334</td>\n",
              "      <td>1324</td>\n",
              "      <td>Tak</td>\n",
              "      <td>Nie</td>\n",
              "      <td>Nie</td>\n",
              "      <td>Tak</td>\n",
              "      <td>a</td>\n",
              "      <td>Rozszerzony</td>\n",
              "      <td>290</td>\n",
              "    </tr>\n",
              "    <tr>\n",
              "      <th>121</th>\n",
              "      <td>42</td>\n",
              "      <td>1</td>\n",
              "      <td>29.12.2021</td>\n",
              "      <td>11385</td>\n",
              "      <td>1140</td>\n",
              "      <td>Tak</td>\n",
              "      <td>Nie</td>\n",
              "      <td>Nie</td>\n",
              "      <td>Tak</td>\n",
              "      <td>a</td>\n",
              "      <td>Rozszerzony</td>\n",
              "      <td>290</td>\n",
              "    </tr>\n",
              "    <tr>\n",
              "      <th>207</th>\n",
              "      <td>42</td>\n",
              "      <td>6</td>\n",
              "      <td>27.12.2021</td>\n",
              "      <td>7072</td>\n",
              "      <td>792</td>\n",
              "      <td>Tak</td>\n",
              "      <td>Nie</td>\n",
              "      <td>Nie</td>\n",
              "      <td>Nie</td>\n",
              "      <td>a</td>\n",
              "      <td>Rozszerzony</td>\n",
              "      <td>290</td>\n",
              "    </tr>\n",
              "    <tr>\n",
              "      <th>336</th>\n",
              "      <td>42</td>\n",
              "      <td>3</td>\n",
              "      <td>24.12.2021</td>\n",
              "      <td>7297</td>\n",
              "      <td>812</td>\n",
              "      <td>Tak</td>\n",
              "      <td>Nie</td>\n",
              "      <td>Nie</td>\n",
              "      <td>Tak</td>\n",
              "      <td>a</td>\n",
              "      <td>Rozszerzony</td>\n",
              "      <td>290</td>\n",
              "    </tr>\n",
              "    <tr>\n",
              "      <th>...</th>\n",
              "      <td>...</td>\n",
              "      <td>...</td>\n",
              "      <td>...</td>\n",
              "      <td>...</td>\n",
              "      <td>...</td>\n",
              "      <td>...</td>\n",
              "      <td>...</td>\n",
              "      <td>...</td>\n",
              "      <td>...</td>\n",
              "      <td>...</td>\n",
              "      <td>...</td>\n",
              "      <td>...</td>\n",
              "    </tr>\n",
              "    <tr>\n",
              "      <th>16638</th>\n",
              "      <td>27</td>\n",
              "      <td>2</td>\n",
              "      <td>07.01.2021</td>\n",
              "      <td>15092</td>\n",
              "      <td>1457</td>\n",
              "      <td>Tak</td>\n",
              "      <td>Tak</td>\n",
              "      <td>Nie</td>\n",
              "      <td>Tak</td>\n",
              "      <td>a</td>\n",
              "      <td>Podstawowy</td>\n",
              "      <td>60</td>\n",
              "    </tr>\n",
              "    <tr>\n",
              "      <th>16688</th>\n",
              "      <td>27</td>\n",
              "      <td>1</td>\n",
              "      <td>06.01.2021</td>\n",
              "      <td>15650</td>\n",
              "      <td>1449</td>\n",
              "      <td>Tak</td>\n",
              "      <td>Tak</td>\n",
              "      <td>Nie</td>\n",
              "      <td>Tak</td>\n",
              "      <td>a</td>\n",
              "      <td>Podstawowy</td>\n",
              "      <td>60</td>\n",
              "    </tr>\n",
              "    <tr>\n",
              "      <th>16788</th>\n",
              "      <td>27</td>\n",
              "      <td>6</td>\n",
              "      <td>04.01.2021</td>\n",
              "      <td>7413</td>\n",
              "      <td>913</td>\n",
              "      <td>Tak</td>\n",
              "      <td>Nie</td>\n",
              "      <td>Nie</td>\n",
              "      <td>Nie</td>\n",
              "      <td>a</td>\n",
              "      <td>Podstawowy</td>\n",
              "      <td>60</td>\n",
              "    </tr>\n",
              "    <tr>\n",
              "      <th>16838</th>\n",
              "      <td>27</td>\n",
              "      <td>5</td>\n",
              "      <td>03.01.2021</td>\n",
              "      <td>8297</td>\n",
              "      <td>1093</td>\n",
              "      <td>Tak</td>\n",
              "      <td>Nie</td>\n",
              "      <td>Nie</td>\n",
              "      <td>Tak</td>\n",
              "      <td>a</td>\n",
              "      <td>Podstawowy</td>\n",
              "      <td>60</td>\n",
              "    </tr>\n",
              "    <tr>\n",
              "      <th>16888</th>\n",
              "      <td>27</td>\n",
              "      <td>4</td>\n",
              "      <td>02.01.2021</td>\n",
              "      <td>7954</td>\n",
              "      <td>1062</td>\n",
              "      <td>Tak</td>\n",
              "      <td>Nie</td>\n",
              "      <td>Nie</td>\n",
              "      <td>Tak</td>\n",
              "      <td>a</td>\n",
              "      <td>Podstawowy</td>\n",
              "      <td>60</td>\n",
              "    </tr>\n",
              "  </tbody>\n",
              "</table>\n",
              "<p>1487 rows × 12 columns</p>\n",
              "</div>\n",
              "      <button class=\"colab-df-convert\" onclick=\"convertToInteractive('df-2a711e59-caaa-4832-bb35-3035b7110100')\"\n",
              "              title=\"Convert this dataframe to an interactive table.\"\n",
              "              style=\"display:none;\">\n",
              "        \n",
              "  <svg xmlns=\"http://www.w3.org/2000/svg\" height=\"24px\"viewBox=\"0 0 24 24\"\n",
              "       width=\"24px\">\n",
              "    <path d=\"M0 0h24v24H0V0z\" fill=\"none\"/>\n",
              "    <path d=\"M18.56 5.44l.94 2.06.94-2.06 2.06-.94-2.06-.94-.94-2.06-.94 2.06-2.06.94zm-11 1L8.5 8.5l.94-2.06 2.06-.94-2.06-.94L8.5 2.5l-.94 2.06-2.06.94zm10 10l.94 2.06.94-2.06 2.06-.94-2.06-.94-.94-2.06-.94 2.06-2.06.94z\"/><path d=\"M17.41 7.96l-1.37-1.37c-.4-.4-.92-.59-1.43-.59-.52 0-1.04.2-1.43.59L10.3 9.45l-7.72 7.72c-.78.78-.78 2.05 0 2.83L4 21.41c.39.39.9.59 1.41.59.51 0 1.02-.2 1.41-.59l7.78-7.78 2.81-2.81c.8-.78.8-2.07 0-2.86zM5.41 20L4 18.59l7.72-7.72 1.47 1.35L5.41 20z\"/>\n",
              "  </svg>\n",
              "      </button>\n",
              "      \n",
              "  <style>\n",
              "    .colab-df-container {\n",
              "      display:flex;\n",
              "      flex-wrap:wrap;\n",
              "      gap: 12px;\n",
              "    }\n",
              "\n",
              "    .colab-df-convert {\n",
              "      background-color: #E8F0FE;\n",
              "      border: none;\n",
              "      border-radius: 50%;\n",
              "      cursor: pointer;\n",
              "      display: none;\n",
              "      fill: #1967D2;\n",
              "      height: 32px;\n",
              "      padding: 0 0 0 0;\n",
              "      width: 32px;\n",
              "    }\n",
              "\n",
              "    .colab-df-convert:hover {\n",
              "      background-color: #E2EBFA;\n",
              "      box-shadow: 0px 1px 2px rgba(60, 64, 67, 0.3), 0px 1px 3px 1px rgba(60, 64, 67, 0.15);\n",
              "      fill: #174EA6;\n",
              "    }\n",
              "\n",
              "    [theme=dark] .colab-df-convert {\n",
              "      background-color: #3B4455;\n",
              "      fill: #D2E3FC;\n",
              "    }\n",
              "\n",
              "    [theme=dark] .colab-df-convert:hover {\n",
              "      background-color: #434B5C;\n",
              "      box-shadow: 0px 1px 3px 1px rgba(0, 0, 0, 0.15);\n",
              "      filter: drop-shadow(0px 1px 2px rgba(0, 0, 0, 0.3));\n",
              "      fill: #FFFFFF;\n",
              "    }\n",
              "  </style>\n",
              "\n",
              "      <script>\n",
              "        const buttonEl =\n",
              "          document.querySelector('#df-2a711e59-caaa-4832-bb35-3035b7110100 button.colab-df-convert');\n",
              "        buttonEl.style.display =\n",
              "          google.colab.kernel.accessAllowed ? 'block' : 'none';\n",
              "\n",
              "        async function convertToInteractive(key) {\n",
              "          const element = document.querySelector('#df-2a711e59-caaa-4832-bb35-3035b7110100');\n",
              "          const dataTable =\n",
              "            await google.colab.kernel.invokeFunction('convertToInteractive',\n",
              "                                                     [key], {});\n",
              "          if (!dataTable) return;\n",
              "\n",
              "          const docLinkHtml = 'Like what you see? Visit the ' +\n",
              "            '<a target=\"_blank\" href=https://colab.research.google.com/notebooks/data_table.ipynb>data table notebook</a>'\n",
              "            + ' to learn more about interactive tables.';\n",
              "          element.innerHTML = '';\n",
              "          dataTable['output_type'] = 'display_data';\n",
              "          await google.colab.output.renderOutput(dataTable, element);\n",
              "          const docLink = document.createElement('div');\n",
              "          docLink.innerHTML = docLinkHtml;\n",
              "          element.appendChild(docLink);\n",
              "        }\n",
              "      </script>\n",
              "    </div>\n",
              "  </div>\n",
              "  "
            ]
          },
          "metadata": {},
          "execution_count": 7
        }
      ]
    },
    {
      "cell_type": "markdown",
      "source": [
        "Wykres 2. - rozkład sprzedaży, liczby klientów w 5 najbardziej dochodowych sklepach w 2021 roku"
      ],
      "metadata": {
        "id": "P0VDsbAHqnk0"
      }
    },
    {
      "cell_type": "code",
      "source": [
        "p4 = sns.jointplot(data = shops4, x=\"sprzedaz\", y=\"liczba_klientow\", hue=\"sklep_id\", height = 10, palette = \"pastel\")\n",
        "p4.fig.suptitle('Rozkład sprzedaży i liczby klientów sklepów Drogeria')\n",
        "p4.set_axis_labels('Sprzedaż','Liczba klientów')\n",
        "p4.fig.tight_layout()\n",
        "\n",
        "plt.show()"
      ],
      "metadata": {
        "colab": {
          "base_uri": "https://localhost:8080/",
          "height": 729
        },
        "id": "4YD51YdH3EC7",
        "outputId": "bd49eeb3-ab34-4c37-95c3-be74109560f8"
      },
      "execution_count": 8,
      "outputs": [
        {
          "output_type": "display_data",
          "data": {
            "text/plain": [
              "<Figure size 720x720 with 3 Axes>"
            ],
            "image/png": "[encoded data removed]"
          },
          "metadata": {
            "needs_background": "light"
          }
        }
      ]
    },
    {
      "cell_type": "markdown",
      "source": [
        "# Sprzedaż vs święta"
      ],
      "metadata": {
        "id": "O6kKM65VwGGo"
      }
    },
    {
      "cell_type": "markdown",
      "source": [
        "Przygotowanie danych dla wykresu 3. - zmergowanie danych dotyczących wystąpienia świąt, stworzenie tabeli przestawnej, sortowanie malejąco"
      ],
      "metadata": {
        "id": "zF3V_7-KwQES"
      }
    },
    {
      "cell_type": "code",
      "source": [
        "shops5 = shops\n",
        "\n",
        "holidays = ['Narodowe', 'Wielkanoc', 'Boże Narodzenie']\n",
        "for holiday in holidays:\n",
        "    shops5['czy_swieto'] = shops5['czy_swieto'].replace([holiday], 'Tak')\n",
        "\n",
        "df5 = pd.pivot_table(shops5, index = ['sklep_id'], columns = ['czy_swieto'], values = ['sprzedaz'], aggfunc='sum')\n",
        "\n",
        "df5.loc[:,'Suma'] = df5.sum(numeric_only = True, axis = 1)\n",
        "df5.sort_values(['Suma'], ascending = False, inplace=True)\n",
        "\n",
        "df5"
      ],
      "metadata": {
        "id": "kmrpe5Y68KGj",
        "colab": {
          "base_uri": "https://localhost:8080/",
          "height": 1000
        },
        "outputId": "33c60650-9cd3-4589-f1b7-e3db528c8e56"
      },
      "execution_count": 9,
      "outputs": [
        {
          "output_type": "execute_result",
          "data": {
            "text/plain": [
              "           sprzedaz           Suma\n",
              "czy_swieto      Nie   Tak         \n",
              "sklep_id                          \n",
              "42          3132357     0  3132357\n",
              "25          3004443     0  3004443\n",
              "4           2971989     0  2971989\n",
              "35          2946316     0  2946316\n",
              "27          2891329     0  2891329\n",
              "24          2821886     0  2821886\n",
              "7           2734048  3335  2737383\n",
              "33          2512321     0  2512321\n",
              "11          2465020     0  2465020\n",
              "34          2457043     0  2457043\n",
              "16          2362148     0  2362148\n",
              "29          2312670     0  2312670\n",
              "12          2309289     0  2309289\n",
              "49          2250642     0  2250642\n",
              "47          2202782     0  2202782\n",
              "37          2113528     0  2113528\n",
              "43          2075985     0  2075985\n",
              "3           2072949     0  2072949\n",
              "9           2054495     0  2054495\n",
              "26          2051696     0  2051696\n",
              "15          2043889     0  2043889\n",
              "18          2019568     0  2019568\n",
              "19          2009452     0  2009452\n",
              "17          1925141     0  1925141\n",
              "38          1811162     0  1811162\n",
              "31          1806223     0  1806223\n",
              "44          1725138     0  1725138\n",
              "10          1713375     0  1713375\n",
              "8           1689700     0  1689700\n",
              "14          1686926     0  1686926\n",
              "21          1683779     0  1683779\n",
              "23          1671843     0  1671843\n",
              "28          1589047     0  1589047\n",
              "45          1583098     0  1583098\n",
              "6           1548574  5173  1553747\n",
              "30          1532860     0  1532860\n",
              "40          1527073     0  1527073\n",
              "2           1513743  2689  1516432\n",
              "39          1487609     0  1487609\n",
              "1           1433408     0  1433408\n",
              "5           1401158  5307  1406465\n",
              "36          1333512     0  1333512\n",
              "50          1274687     0  1274687\n",
              "48          1162829     0  1162829\n",
              "20          1114306     0  1114306\n",
              "41           824323     0   824323\n",
              "46           798454     0   798454\n",
              "13           738440     0   738440\n",
              "22           647711     0   647711\n",
              "32           602798     0   602798"
            ],
            "text/html": [
              "\n",
              "  <div id=\"df-e1e94458-7b1e-4240-81be-5ce17cb069b2\">\n",
              "    <div class=\"colab-df-container\">\n",
              "      <div>\n",
              "<style scoped>\n",
              "    .dataframe tbody tr th:only-of-type {\n",
              "        vertical-align: middle;\n",
              "    }\n",
              "\n",
              "    .dataframe tbody tr th {\n",
              "        vertical-align: top;\n",
              "    }\n",
              "\n",
              "    .dataframe thead tr th {\n",
              "        text-align: left;\n",
              "    }\n",
              "\n",
              "    .dataframe thead tr:last-of-type th {\n",
              "        text-align: right;\n",
              "    }\n",
              "</style>\n",
              "<table border=\"1\" class=\"dataframe\">\n",
              "  <thead>\n",
              "    <tr>\n",
              "      <th></th>\n",
              "      <th colspan=\"2\" halign=\"left\">sprzedaz</th>\n",
              "      <th>Suma</th>\n",
              "    </tr>\n",
              "    <tr>\n",
              "      <th>czy_swieto</th>\n",
              "      <th>Nie</th>\n",
              "      <th>Tak</th>\n",
              "      <th></th>\n",
              "    </tr>\n",
              "    <tr>\n",
              "      <th>sklep_id</th>\n",
              "      <th></th>\n",
              "      <th></th>\n",
              "      <th></th>\n",
              "    </tr>\n",
              "  </thead>\n",
              "  <tbody>\n",
              "    <tr>\n",
              "      <th>42</th>\n",
              "      <td>3132357</td>\n",
              "      <td>0</td>\n",
              "      <td>3132357</td>\n",
              "    </tr>\n",
              "    <tr>\n",
              "      <th>25</th>\n",
              "      <td>3004443</td>\n",
              "      <td>0</td>\n",
              "      <td>3004443</td>\n",
              "    </tr>\n",
              "    <tr>\n",
              "      <th>4</th>\n",
              "      <td>2971989</td>\n",
              "      <td>0</td>\n",
              "      <td>2971989</td>\n",
              "    </tr>\n",
              "    <tr>\n",
              "      <th>35</th>\n",
              "      <td>2946316</td>\n",
              "      <td>0</td>\n",
              "      <td>2946316</td>\n",
              "    </tr>\n",
              "    <tr>\n",
              "      <th>27</th>\n",
              "      <td>2891329</td>\n",
              "      <td>0</td>\n",
              "      <td>2891329</td>\n",
              "    </tr>\n",
              "    <tr>\n",
              "      <th>24</th>\n",
              "      <td>2821886</td>\n",
              "      <td>0</td>\n",
              "      <td>2821886</td>\n",
              "    </tr>\n",
              "    <tr>\n",
              "      <th>7</th>\n",
              "      <td>2734048</td>\n",
              "      <td>3335</td>\n",
              "      <td>2737383</td>\n",
              "    </tr>\n",
              "    <tr>\n",
              "      <th>33</th>\n",
              "      <td>2512321</td>\n",
              "      <td>0</td>\n",
              "      <td>2512321</td>\n",
              "    </tr>\n",
              "    <tr>\n",
              "      <th>11</th>\n",
              "      <td>2465020</td>\n",
              "      <td>0</td>\n",
              "      <td>2465020</td>\n",
              "    </tr>\n",
              "    <tr>\n",
              "      <th>34</th>\n",
              "      <td>2457043</td>\n",
              "      <td>0</td>\n",
              "      <td>2457043</td>\n",
              "    </tr>\n",
              "    <tr>\n",
              "      <th>16</th>\n",
              "      <td>2362148</td>\n",
              "      <td>0</td>\n",
              "      <td>2362148</td>\n",
              "    </tr>\n",
              "    <tr>\n",
              "      <th>29</th>\n",
              "      <td>2312670</td>\n",
              "      <td>0</td>\n",
              "      <td>2312670</td>\n",
              "    </tr>\n",
              "    <tr>\n",
              "      <th>12</th>\n",
              "      <td>2309289</td>\n",
              "      <td>0</td>\n",
              "      <td>2309289</td>\n",
              "    </tr>\n",
              "    <tr>\n",
              "      <th>49</th>\n",
              "      <td>2250642</td>\n",
              "      <td>0</td>\n",
              "      <td>2250642</td>\n",
              "    </tr>\n",
              "    <tr>\n",
              "      <th>47</th>\n",
              "      <td>2202782</td>\n",
              "      <td>0</td>\n",
              "      <td>2202782</td>\n",
              "    </tr>\n",
              "    <tr>\n",
              "      <th>37</th>\n",
              "      <td>2113528</td>\n",
              "      <td>0</td>\n",
              "      <td>2113528</td>\n",
              "    </tr>\n",
              "    <tr>\n",
              "      <th>43</th>\n",
              "      <td>2075985</td>\n",
              "      <td>0</td>\n",
              "      <td>2075985</td>\n",
              "    </tr>\n",
              "    <tr>\n",
              "      <th>3</th>\n",
              "      <td>2072949</td>\n",
              "      <td>0</td>\n",
              "      <td>2072949</td>\n",
              "    </tr>\n",
              "    <tr>\n",
              "      <th>9</th>\n",
              "      <td>2054495</td>\n",
              "      <td>0</td>\n",
              "      <td>2054495</td>\n",
              "    </tr>\n",
              "    <tr>\n",
              "      <th>26</th>\n",
              "      <td>2051696</td>\n",
              "      <td>0</td>\n",
              "      <td>2051696</td>\n",
              "    </tr>\n",
              "    <tr>\n",
              "      <th>15</th>\n",
              "      <td>2043889</td>\n",
              "      <td>0</td>\n",
              "      <td>2043889</td>\n",
              "    </tr>\n",
              "    <tr>\n",
              "      <th>18</th>\n",
              "      <td>2019568</td>\n",
              "      <td>0</td>\n",
              "      <td>2019568</td>\n",
              "    </tr>\n",
              "    <tr>\n",
              "      <th>19</th>\n",
              "      <td>2009452</td>\n",
              "      <td>0</td>\n",
              "      <td>2009452</td>\n",
              "    </tr>\n",
              "    <tr>\n",
              "      <th>17</th>\n",
              "      <td>1925141</td>\n",
              "      <td>0</td>\n",
              "      <td>1925141</td>\n",
              "    </tr>\n",
              "    <tr>\n",
              "      <th>38</th>\n",
              "      <td>1811162</td>\n",
              "      <td>0</td>\n",
              "      <td>1811162</td>\n",
              "    </tr>\n",
              "    <tr>\n",
              "      <th>31</th>\n",
              "      <td>1806223</td>\n",
              "      <td>0</td>\n",
              "      <td>1806223</td>\n",
              "    </tr>\n",
              "    <tr>\n",
              "      <th>44</th>\n",
              "      <td>1725138</td>\n",
              "      <td>0</td>\n",
              "      <td>1725138</td>\n",
              "    </tr>\n",
              "    <tr>\n",
              "      <th>10</th>\n",
              "      <td>1713375</td>\n",
              "      <td>0</td>\n",
              "      <td>1713375</td>\n",
              "    </tr>\n",
              "    <tr>\n",
              "      <th>8</th>\n",
              "      <td>1689700</td>\n",
              "      <td>0</td>\n",
              "      <td>1689700</td>\n",
              "    </tr>\n",
              "    <tr>\n",
              "      <th>14</th>\n",
              "      <td>1686926</td>\n",
              "      <td>0</td>\n",
              "      <td>1686926</td>\n",
              "    </tr>\n",
              "    <tr>\n",
              "      <th>21</th>\n",
              "      <td>1683779</td>\n",
              "      <td>0</td>\n",
              "      <td>1683779</td>\n",
              "    </tr>\n",
              "    <tr>\n",
              "      <th>23</th>\n",
              "      <td>1671843</td>\n",
              "      <td>0</td>\n",
              "      <td>1671843</td>\n",
              "    </tr>\n",
              "    <tr>\n",
              "      <th>28</th>\n",
              "      <td>1589047</td>\n",
              "      <td>0</td>\n",
              "      <td>1589047</td>\n",
              "    </tr>\n",
              "    <tr>\n",
              "      <th>45</th>\n",
              "      <td>1583098</td>\n",
              "      <td>0</td>\n",
              "      <td>1583098</td>\n",
              "    </tr>\n",
              "    <tr>\n",
              "      <th>6</th>\n",
              "      <td>1548574</td>\n",
              "      <td>5173</td>\n",
              "      <td>1553747</td>\n",
              "    </tr>\n",
              "    <tr>\n",
              "      <th>30</th>\n",
              "      <td>1532860</td>\n",
              "      <td>0</td>\n",
              "      <td>1532860</td>\n",
              "    </tr>\n",
              "    <tr>\n",
              "      <th>40</th>\n",
              "      <td>1527073</td>\n",
              "      <td>0</td>\n",
              "      <td>1527073</td>\n",
              "    </tr>\n",
              "    <tr>\n",
              "      <th>2</th>\n",
              "      <td>1513743</td>\n",
              "      <td>2689</td>\n",
              "      <td>1516432</td>\n",
              "    </tr>\n",
              "    <tr>\n",
              "      <th>39</th>\n",
              "      <td>1487609</td>\n",
              "      <td>0</td>\n",
              "      <td>1487609</td>\n",
              "    </tr>\n",
              "    <tr>\n",
              "      <th>1</th>\n",
              "      <td>1433408</td>\n",
              "      <td>0</td>\n",
              "      <td>1433408</td>\n",
              "    </tr>\n",
              "    <tr>\n",
              "      <th>5</th>\n",
              "      <td>1401158</td>\n",
              "      <td>5307</td>\n",
              "      <td>1406465</td>\n",
              "    </tr>\n",
              "    <tr>\n",
              "      <th>36</th>\n",
              "      <td>1333512</td>\n",
              "      <td>0</td>\n",
              "      <td>1333512</td>\n",
              "    </tr>\n",
              "    <tr>\n",
              "      <th>50</th>\n",
              "      <td>1274687</td>\n",
              "      <td>0</td>\n",
              "      <td>1274687</td>\n",
              "    </tr>\n",
              "    <tr>\n",
              "      <th>48</th>\n",
              "      <td>1162829</td>\n",
              "      <td>0</td>\n",
              "      <td>1162829</td>\n",
              "    </tr>\n",
              "    <tr>\n",
              "      <th>20</th>\n",
              "      <td>1114306</td>\n",
              "      <td>0</td>\n",
              "      <td>1114306</td>\n",
              "    </tr>\n",
              "    <tr>\n",
              "      <th>41</th>\n",
              "      <td>824323</td>\n",
              "      <td>0</td>\n",
              "      <td>824323</td>\n",
              "    </tr>\n",
              "    <tr>\n",
              "      <th>46</th>\n",
              "      <td>798454</td>\n",
              "      <td>0</td>\n",
              "      <td>798454</td>\n",
              "    </tr>\n",
              "    <tr>\n",
              "      <th>13</th>\n",
              "      <td>738440</td>\n",
              "      <td>0</td>\n",
              "      <td>738440</td>\n",
              "    </tr>\n",
              "    <tr>\n",
              "      <th>22</th>\n",
              "      <td>647711</td>\n",
              "      <td>0</td>\n",
              "      <td>647711</td>\n",
              "    </tr>\n",
              "    <tr>\n",
              "      <th>32</th>\n",
              "      <td>602798</td>\n",
              "      <td>0</td>\n",
              "      <td>602798</td>\n",
              "    </tr>\n",
              "  </tbody>\n",
              "</table>\n",
              "</div>\n",
              "      <button class=\"colab-df-convert\" onclick=\"convertToInteractive('df-e1e94458-7b1e-4240-81be-5ce17cb069b2')\"\n",
              "              title=\"Convert this dataframe to an interactive table.\"\n",
              "              style=\"display:none;\">\n",
              "        \n",
              "  <svg xmlns=\"http://www.w3.org/2000/svg\" height=\"24px\"viewBox=\"0 0 24 24\"\n",
              "       width=\"24px\">\n",
              "    <path d=\"M0 0h24v24H0V0z\" fill=\"none\"/>\n",
              "    <path d=\"M18.56 5.44l.94 2.06.94-2.06 2.06-.94-2.06-.94-.94-2.06-.94 2.06-2.06.94zm-11 1L8.5 8.5l.94-2.06 2.06-.94-2.06-.94L8.5 2.5l-.94 2.06-2.06.94zm10 10l.94 2.06.94-2.06 2.06-.94-2.06-.94-.94-2.06-.94 2.06-2.06.94z\"/><path d=\"M17.41 7.96l-1.37-1.37c-.4-.4-.92-.59-1.43-.59-.52 0-1.04.2-1.43.59L10.3 9.45l-7.72 7.72c-.78.78-.78 2.05 0 2.83L4 21.41c.39.39.9.59 1.41.59.51 0 1.02-.2 1.41-.59l7.78-7.78 2.81-2.81c.8-.78.8-2.07 0-2.86zM5.41 20L4 18.59l7.72-7.72 1.47 1.35L5.41 20z\"/>\n",
              "  </svg>\n",
              "      </button>\n",
              "      \n",
              "  <style>\n",
              "    .colab-df-container {\n",
              "      display:flex;\n",
              "      flex-wrap:wrap;\n",
              "      gap: 12px;\n",
              "    }\n",
              "\n",
              "    .colab-df-convert {\n",
              "      background-color: #E8F0FE;\n",
              "      border: none;\n",
              "      border-radius: 50%;\n",
              "      cursor: pointer;\n",
              "      display: none;\n",
              "      fill: #1967D2;\n",
              "      height: 32px;\n",
              "      padding: 0 0 0 0;\n",
              "      width: 32px;\n",
              "    }\n",
              "\n",
              "    .colab-df-convert:hover {\n",
              "      background-color: #E2EBFA;\n",
              "      box-shadow: 0px 1px 2px rgba(60, 64, 67, 0.3), 0px 1px 3px 1px rgba(60, 64, 67, 0.15);\n",
              "      fill: #174EA6;\n",
              "    }\n",
              "\n",
              "    [theme=dark] .colab-df-convert {\n",
              "      background-color: #3B4455;\n",
              "      fill: #D2E3FC;\n",
              "    }\n",
              "\n",
              "    [theme=dark] .colab-df-convert:hover {\n",
              "      background-color: #434B5C;\n",
              "      box-shadow: 0px 1px 3px 1px rgba(0, 0, 0, 0.15);\n",
              "      filter: drop-shadow(0px 1px 2px rgba(0, 0, 0, 0.3));\n",
              "      fill: #FFFFFF;\n",
              "    }\n",
              "  </style>\n",
              "\n",
              "      <script>\n",
              "        const buttonEl =\n",
              "          document.querySelector('#df-e1e94458-7b1e-4240-81be-5ce17cb069b2 button.colab-df-convert');\n",
              "        buttonEl.style.display =\n",
              "          google.colab.kernel.accessAllowed ? 'block' : 'none';\n",
              "\n",
              "        async function convertToInteractive(key) {\n",
              "          const element = document.querySelector('#df-e1e94458-7b1e-4240-81be-5ce17cb069b2');\n",
              "          const dataTable =\n",
              "            await google.colab.kernel.invokeFunction('convertToInteractive',\n",
              "                                                     [key], {});\n",
              "          if (!dataTable) return;\n",
              "\n",
              "          const docLinkHtml = 'Like what you see? Visit the ' +\n",
              "            '<a target=\"_blank\" href=https://colab.research.google.com/notebooks/data_table.ipynb>data table notebook</a>'\n",
              "            + ' to learn more about interactive tables.';\n",
              "          element.innerHTML = '';\n",
              "          dataTable['output_type'] = 'display_data';\n",
              "          await google.colab.output.renderOutput(dataTable, element);\n",
              "          const docLink = document.createElement('div');\n",
              "          docLink.innerHTML = docLinkHtml;\n",
              "          element.appendChild(docLink);\n",
              "        }\n",
              "      </script>\n",
              "    </div>\n",
              "  </div>\n",
              "  "
            ]
          },
          "metadata": {},
          "execution_count": 9
        }
      ]
    },
    {
      "cell_type": "markdown",
      "source": [
        "Wykres 3 - wpływ sprzedaży w święta na sprzedaż sklepów *Drogeria* ogółem"
      ],
      "metadata": {
        "id": "hF-ogEntwVPk"
      }
    },
    {
      "cell_type": "code",
      "source": [
        "plt.rcParams[\"figure.figsize\"] = (16,9)\n",
        "y5 = ['sprzedaz']\n",
        "df5.plot.bar(y=y5, color=color, legend=True) #stworzenie wykresu\n",
        "\n",
        "L = plt.legend()\n",
        "L.get_texts()[0].set_text('Nie')\n",
        "L.get_texts()[1].set_text('Tak')\n",
        "plt.title('Sprzedaż w święta')\n",
        "plt.gca().set_xlabel('Numer sklepu')\n",
        "\n",
        "plt.show()"
      ],
      "metadata": {
        "colab": {
          "base_uri": "https://localhost:8080/",
          "height": 570
        },
        "id": "acHGe30FXDaj",
        "outputId": "a01f7db3-7395-4494-cc5c-b8ffce47f4ef"
      },
      "execution_count": 10,
      "outputs": [
        {
          "output_type": "display_data",
          "data": {
            "text/plain": [
              "<Figure size 1152x648 with 1 Axes>"
            ],
            "image/png": "[encoded data removed]"
          },
          "metadata": {
            "needs_background": "light"
          }
        }
      ]
    },
    {
      "cell_type": "code",
      "source": [
        "plt.rcParams[\"figure.figsize\"] = (16,9)\n",
        "y5 = ['sprzedaz']\n",
        "df5.plot.bar(y=y5, color=color) #stworzenie wykresu\n",
        "plt.ylim(0, 10000)\n",
        "\n",
        "L = plt.legend()\n",
        "L.get_texts()[0].set_text('Nie')\n",
        "L.get_texts()[1].set_text('Tak')\n",
        "plt.title('Sprzedaż w święta')\n",
        "plt.gca().set_xlabel('Numer sklepu')\n",
        "\n",
        "\n",
        "plt.show()"
      ],
      "metadata": {
        "colab": {
          "base_uri": "https://localhost:8080/",
          "height": 570
        },
        "id": "XVqzvXSS1sDG",
        "outputId": "b262dbeb-8655-413d-c853-cdccdec4b589"
      },
      "execution_count": 11,
      "outputs": [
        {
          "output_type": "display_data",
          "data": {
            "text/plain": [
              "<Figure size 1152x648 with 1 Axes>"
            ],
            "image/png": "[encoded data removed]"
          },
          "metadata": {
            "needs_background": "light"
          }
        }
      ]
    },
    {
      "cell_type": "markdown",
      "source": [
        "#Sprzedaż i Klienci w ciągu roku"
      ],
      "metadata": {
        "id": "JNTLqK0qjR-q"
      }
    },
    {
      "cell_type": "code",
      "source": [],
      "metadata": {
        "id": "QO1I7TwiPNag"
      },
      "execution_count": null,
      "outputs": []
    },
    {
      "cell_type": "markdown",
      "source": [
        " Przygotowanie danych do wykresu 4. - tabela przestawna, sprzedaż miesięczna oraz ilość Klientów w sklepie 42"
      ],
      "metadata": {
        "id": "NW18NFNyj5Hf"
      }
    },
    {
      "cell_type": "code",
      "source": [
        "shops1 = shops\n",
        "shops1.data = pd.to_datetime(shops.data)\n",
        "shops1.data = shops.data.dt.strftime('%Y-%m')\n",
        "\n",
        "value6 =['sprzedaz', 'liczba_klientow']\n",
        "\n",
        "shops6 = pd.pivot_table(shops1, index=['sklep_id'], values = value6, aggfunc='sum',columns=['data'])\n",
        "\n",
        "sklep_42 = shops6.loc[42,:]\n"
      ],
      "metadata": {
        "id": "npHSuCV2DTOS"
      },
      "execution_count": 12,
      "outputs": []
    },
    {
      "cell_type": "markdown",
      "source": [
        "**Wykres** 4. - sprzedaż i liczba klientów sklepu *Drogeria* nr 42"
      ],
      "metadata": {
        "id": "AlOjGNlJkLsu"
      }
    },
    {
      "cell_type": "code",
      "source": [
        "def plot_sales_and_customers(df):\n",
        "    \n",
        "    fig, (ax1, ax2) = plt.subplots(2, 1)\n",
        "    df['sprzedaz'].plot(kind='line', ax=ax1, color = COLOR_6)\n",
        "    ax1.set_title('Sprzedaż')\n",
        "    ax1.set_xlabel('')\n",
        "\n",
        "    df['liczba_klientow'].plot(kind='line', ax=ax2, color = COLOR_3)\n",
        "    ax2.set_title('Liczba Klientów')\n",
        "    ax2.set_xlabel('')\n",
        "\n",
        "    plt.show()\n",
        "\n",
        "plot_sales_and_customers(sklep_42)    "
      ],
      "metadata": {
        "colab": {
          "base_uri": "https://localhost:8080/",
          "height": 553
        },
        "id": "mER5hINUEWxN",
        "outputId": "5b5c8166-2750-4722-8e25-9460fc9d012d"
      },
      "execution_count": 13,
      "outputs": [
        {
          "output_type": "display_data",
          "data": {
            "text/plain": [
              "<Figure size 1152x648 with 2 Axes>"
            ],
            "image/png": "[encoded data removed]"
          },
          "metadata": {
            "needs_background": "light"
          }
        }
      ]
    },
    {
      "cell_type": "markdown",
      "source": [
        "#Promocja vs sprzedaż"
      ],
      "metadata": {
        "id": "MP2ZzX8RmmXe"
      }
    },
    {
      "cell_type": "markdown",
      "source": [
        "Przygotowanie danych do wykresu 5. - odfiltowanie wartości >0 oraz najbardziej dochodowego sklepu\n",
        "\n",
        "> Blok z wcięciem\n",
        "\n"
      ],
      "metadata": {
        "id": "n9FqoIOJmunx"
      }
    },
    {
      "cell_type": "code",
      "source": [
        "shops3 = shops[(shops.sklep_id == 42 ) & (shops.czy_otwarty == 'Tak') ]"
      ],
      "metadata": {
        "id": "HLxd8LbXmsuA"
      },
      "execution_count": 14,
      "outputs": []
    },
    {
      "cell_type": "markdown",
      "source": [
        "Wykres 5. - sprzedaż w ujęciu tygodniowym w zależności od wprowadzenia promocji"
      ],
      "metadata": {
        "id": "xtQbNpW0o69K"
      }
    },
    {
      "cell_type": "code",
      "source": [
        "with sns.color_palette(\"pastel\"):\n",
        "  fig3 = sns.catplot(data = shops3, x = 'dzien_tyg', y = 'sprzedaz', hue = 'czy_promocja', height = 7, aspect =2.3)\n",
        "  fig3.set_xticklabels(['Poniedziałek','Wtorek','Środa','Czwartek','Piątek','Sobota'])\n",
        "  fig3.set_axis_labels('Dzień tygodnia','Sprzedaż')\n",
        "  fig3.set_titles(template ='Wpływ promacji na sprzedaż wg dnia tygodnia')\n",
        "  fig3.fig.suptitle('Promocja vs Sprzedaż sklepu Drogeria numer 42')\n",
        "plt.show()\n"
      ],
      "metadata": {
        "colab": {
          "base_uri": "https://localhost:8080/",
          "height": 514
        },
        "id": "Pzj8hGFpJVzL",
        "outputId": "665a238e-d1ea-4d95-85a3-bba9189ee36f"
      },
      "execution_count": 15,
      "outputs": [
        {
          "output_type": "display_data",
          "data": {
            "text/plain": [
              "<Figure size 1234.95x504 with 1 Axes>"
            ],
            "image/png": "[encoded data removed]"
          },
          "metadata": {
            "needs_background": "light"
          }
        }
      ]
    },
    {
      "cell_type": "markdown",
      "source": [
        "#Zależność między promocją a liczbą klientów w sklepie numr 42 \n"
      ],
      "metadata": {
        "id": "cdhwwn5ByZDg"
      }
    },
    {
      "cell_type": "markdown",
      "source": [
        "Wykres 6. - rozkład ilości Klientów w sklepie 42 podczas promocji"
      ],
      "metadata": {
        "id": "5psvMk2HPUlr"
      }
    },
    {
      "cell_type": "code",
      "source": [
        "p6 = sns.histplot(shops4, x='liczba_klientow', hue = 'czy_promocja', element=\"step\", stat=\"frequency\", common_norm=False, palette = 'pastel')\n",
        "p6.set(xlabel='Liczba klientów', title='Promocja vs liczba klientów')\n",
        "plt.show()"
      ],
      "metadata": {
        "colab": {
          "base_uri": "https://localhost:8080/",
          "height": 567
        },
        "id": "sE7SGSH-pKth",
        "outputId": "f81239d7-807e-4c47-bba2-f76c19acb4f2"
      },
      "execution_count": 16,
      "outputs": [
        {
          "output_type": "display_data",
          "data": {
            "text/plain": [
              "<Figure size 1152x648 with 1 Axes>"
            ],
            "image/png": "[encoded data removed]"
          },
          "metadata": {
            "needs_background": "light"
          }
        }
      ]
    },
    {
      "cell_type": "markdown",
      "source": [
        "# Sprzedaż vs dzień tygodnia"
      ],
      "metadata": {
        "id": "8DAoT_aRynWh"
      }
    },
    {
      "cell_type": "markdown",
      "source": [
        "Przygotowanie danych do wykresu 7. - odfiltrowanie wartości 0> oraz sklepu numer 42, stworzenie tabeli przestawnej sumującej sprzedaż w poszczególne dni tygodnia"
      ],
      "metadata": {
        "id": "OkY_JlYUyw5N"
      }
    },
    {
      "cell_type": "code",
      "source": [
        "shops7 = shops3\n",
        "\n",
        "shops7 = shops[(shops.sklep_id == 42 ) & (shops.czy_otwarty == 'Tak') ]\n",
        "df7 = pd.pivot_table(shops7, index = ['sklep_id'], columns = ['dzien_tyg'], values = ['sprzedaz'], aggfunc='mean')\n",
        "df7.transpose()"
      ],
      "metadata": {
        "id": "mQ-8ViUky1Hy",
        "colab": {
          "base_uri": "https://localhost:8080/",
          "height": 269
        },
        "outputId": "9d11f3e9-a829-473f-840d-0ae5cf46a004"
      },
      "execution_count": 17,
      "outputs": [
        {
          "output_type": "execute_result",
          "data": {
            "text/plain": [
              "sklep_id                      42\n",
              "         dzien_tyg              \n",
              "sprzedaz 1          12122.260000\n",
              "         2          10679.019231\n",
              "         3          10580.423077\n",
              "         4           9924.958333\n",
              "         5          10353.816327\n",
              "         6           8568.980392"
            ],
            "text/html": [
              "\n",
              "  <div id=\"df-ce9a2369-57d4-497a-bcbf-ab8a2d5a9a18\">\n",
              "    <div class=\"colab-df-container\">\n",
              "      <div>\n",
              "<style scoped>\n",
              "    .dataframe tbody tr th:only-of-type {\n",
              "        vertical-align: middle;\n",
              "    }\n",
              "\n",
              "    .dataframe tbody tr th {\n",
              "        vertical-align: top;\n",
              "    }\n",
              "\n",
              "    .dataframe thead th {\n",
              "        text-align: right;\n",
              "    }\n",
              "</style>\n",
              "<table border=\"1\" class=\"dataframe\">\n",
              "  <thead>\n",
              "    <tr style=\"text-align: right;\">\n",
              "      <th></th>\n",
              "      <th>sklep_id</th>\n",
              "      <th>42</th>\n",
              "    </tr>\n",
              "    <tr>\n",
              "      <th></th>\n",
              "      <th>dzien_tyg</th>\n",
              "      <th></th>\n",
              "    </tr>\n",
              "  </thead>\n",
              "  <tbody>\n",
              "    <tr>\n",
              "      <th rowspan=\"6\" valign=\"top\">sprzedaz</th>\n",
              "      <th>1</th>\n",
              "      <td>12122.260000</td>\n",
              "    </tr>\n",
              "    <tr>\n",
              "      <th>2</th>\n",
              "      <td>10679.019231</td>\n",
              "    </tr>\n",
              "    <tr>\n",
              "      <th>3</th>\n",
              "      <td>10580.423077</td>\n",
              "    </tr>\n",
              "    <tr>\n",
              "      <th>4</th>\n",
              "      <td>9924.958333</td>\n",
              "    </tr>\n",
              "    <tr>\n",
              "      <th>5</th>\n",
              "      <td>10353.816327</td>\n",
              "    </tr>\n",
              "    <tr>\n",
              "      <th>6</th>\n",
              "      <td>8568.980392</td>\n",
              "    </tr>\n",
              "  </tbody>\n",
              "</table>\n",
              "</div>\n",
              "      <button class=\"colab-df-convert\" onclick=\"convertToInteractive('df-ce9a2369-57d4-497a-bcbf-ab8a2d5a9a18')\"\n",
              "              title=\"Convert this dataframe to an interactive table.\"\n",
              "              style=\"display:none;\">\n",
              "        \n",
              "  <svg xmlns=\"http://www.w3.org/2000/svg\" height=\"24px\"viewBox=\"0 0 24 24\"\n",
              "       width=\"24px\">\n",
              "    <path d=\"M0 0h24v24H0V0z\" fill=\"none\"/>\n",
              "    <path d=\"M18.56 5.44l.94 2.06.94-2.06 2.06-.94-2.06-.94-.94-2.06-.94 2.06-2.06.94zm-11 1L8.5 8.5l.94-2.06 2.06-.94-2.06-.94L8.5 2.5l-.94 2.06-2.06.94zm10 10l.94 2.06.94-2.06 2.06-.94-2.06-.94-.94-2.06-.94 2.06-2.06.94z\"/><path d=\"M17.41 7.96l-1.37-1.37c-.4-.4-.92-.59-1.43-.59-.52 0-1.04.2-1.43.59L10.3 9.45l-7.72 7.72c-.78.78-.78 2.05 0 2.83L4 21.41c.39.39.9.59 1.41.59.51 0 1.02-.2 1.41-.59l7.78-7.78 2.81-2.81c.8-.78.8-2.07 0-2.86zM5.41 20L4 18.59l7.72-7.72 1.47 1.35L5.41 20z\"/>\n",
              "  </svg>\n",
              "      </button>\n",
              "      \n",
              "  <style>\n",
              "    .colab-df-container {\n",
              "      display:flex;\n",
              "      flex-wrap:wrap;\n",
              "      gap: 12px;\n",
              "    }\n",
              "\n",
              "    .colab-df-convert {\n",
              "      background-color: #E8F0FE;\n",
              "      border: none;\n",
              "      border-radius: 50%;\n",
              "      cursor: pointer;\n",
              "      display: none;\n",
              "      fill: #1967D2;\n",
              "      height: 32px;\n",
              "      padding: 0 0 0 0;\n",
              "      width: 32px;\n",
              "    }\n",
              "\n",
              "    .colab-df-convert:hover {\n",
              "      background-color: #E2EBFA;\n",
              "      box-shadow: 0px 1px 2px rgba(60, 64, 67, 0.3), 0px 1px 3px 1px rgba(60, 64, 67, 0.15);\n",
              "      fill: #174EA6;\n",
              "    }\n",
              "\n",
              "    [theme=dark] .colab-df-convert {\n",
              "      background-color: #3B4455;\n",
              "      fill: #D2E3FC;\n",
              "    }\n",
              "\n",
              "    [theme=dark] .colab-df-convert:hover {\n",
              "      background-color: #434B5C;\n",
              "      box-shadow: 0px 1px 3px 1px rgba(0, 0, 0, 0.15);\n",
              "      filter: drop-shadow(0px 1px 2px rgba(0, 0, 0, 0.3));\n",
              "      fill: #FFFFFF;\n",
              "    }\n",
              "  </style>\n",
              "\n",
              "      <script>\n",
              "        const buttonEl =\n",
              "          document.querySelector('#df-ce9a2369-57d4-497a-bcbf-ab8a2d5a9a18 button.colab-df-convert');\n",
              "        buttonEl.style.display =\n",
              "          google.colab.kernel.accessAllowed ? 'block' : 'none';\n",
              "\n",
              "        async function convertToInteractive(key) {\n",
              "          const element = document.querySelector('#df-ce9a2369-57d4-497a-bcbf-ab8a2d5a9a18');\n",
              "          const dataTable =\n",
              "            await google.colab.kernel.invokeFunction('convertToInteractive',\n",
              "                                                     [key], {});\n",
              "          if (!dataTable) return;\n",
              "\n",
              "          const docLinkHtml = 'Like what you see? Visit the ' +\n",
              "            '<a target=\"_blank\" href=https://colab.research.google.com/notebooks/data_table.ipynb>data table notebook</a>'\n",
              "            + ' to learn more about interactive tables.';\n",
              "          element.innerHTML = '';\n",
              "          dataTable['output_type'] = 'display_data';\n",
              "          await google.colab.output.renderOutput(dataTable, element);\n",
              "          const docLink = document.createElement('div');\n",
              "          docLink.innerHTML = docLinkHtml;\n",
              "          element.appendChild(docLink);\n",
              "        }\n",
              "      </script>\n",
              "    </div>\n",
              "  </div>\n",
              "  "
            ]
          },
          "metadata": {},
          "execution_count": 17
        }
      ]
    },
    {
      "cell_type": "markdown",
      "source": [
        "Wykres 7. - średnia sprzedaż dla sklepu *Drogeria* numer 42 wg dni tygodnia"
      ],
      "metadata": {
        "id": "2lXIs5djy4mj"
      }
    },
    {
      "cell_type": "code",
      "source": [
        "plt.rcParams[\"figure.figsize\"] = (16,9)\n",
        "fig7 = df7.plot.bar(y='sprzedaz', color = [COLOR_1, COLOR_2, COLOR_3, COLOR_4, COLOR_5])\n",
        "plt.title('Sprzedaż dla sklepu Drogeria')\n",
        "fig7.set_xlabel('Numer sklepu')\n",
        "plt.ylabel  = ('Sprzedaż')\n",
        "\n",
        "L = plt.legend()\n",
        "L.get_texts()[0].set_text('Poniedziałek')\n",
        "L.get_texts()[1].set_text('Wtorek')\n",
        "L.get_texts()[2].set_text('Środa')\n",
        "L.get_texts()[3].set_text('Czwartek')\n",
        "L.get_texts()[4].set_text('Piątek')\n",
        "L.get_texts()[5].set_text('Sobota')"
      ],
      "metadata": {
        "id": "X2ydzfRawuq6",
        "colab": {
          "base_uri": "https://localhost:8080/",
          "height": 570
        },
        "outputId": "13771154-fcf0-46e5-b8df-e0bad8e6d15f"
      },
      "execution_count": 18,
      "outputs": [
        {
          "output_type": "display_data",
          "data": {
            "text/plain": [
              "<Figure size 1152x648 with 1 Axes>"
            ],
            "image/png": "[encoded data removed]"
          },
          "metadata": {
            "needs_background": "light"
          }
        }
      ]
    }
  ]
}